{
 "cells": [
  {
   "cell_type": "code",
   "execution_count": 6,
   "id": "37397da3-d6ee-4d2d-9df9-e5e60482056a",
   "metadata": {},
   "outputs": [
    {
     "name": "stdout",
     "output_type": "stream",
     "text": [
      "Text has been extracted and saved to output.txt\n"
     ]
    }
   ],
   "source": [
    "import pytesseract\n",
    "from PIL import Image\n",
    "\n",
    "# Load the image\n",
    "image_path = r'C:\\Users\\gilles\\Documents\\GitHub\\OCR01\\data\\Texte01.jpg'  # Change this to your image path\n",
    "image = Image.open(r'C:\\Users\\gilles\\Documents\\GitHub\\OCR01\\data\\Texte01.jpg')\n",
    "\n",
    "# Extract text using Tesseract OCR\n",
    "text = pytesseract.image_to_string(image)\n",
    "\n",
    "# Save the extracted text to a text file\n",
    "output_file = \"output.txt\"\n",
    "with open(output_file, \"w\", encoding=\"utf-8\") as file:\n",
    "    file.write(text)\n",
    "\n",
    "print(f\"Text has been extracted and saved to {output_file}\")\n"
   ]
  },
  {
   "cell_type": "code",
   "execution_count": 7,
   "id": "df462ba1-c10f-4af6-b6ee-c1ce0fb94672",
   "metadata": {},
   "outputs": [
    {
     "name": "stdout",
     "output_type": "stream",
     "text": [
      "Extracted Text:\n",
      "\n",
      "\n"
     ]
    }
   ],
   "source": [
    "# Print the extracted text\n",
    "print(\"Extracted Text:\\n\")\n",
    "print(text)"
   ]
  },
  {
   "cell_type": "code",
   "execution_count": null,
   "id": "691dafed-92c5-4d89-9b74-ec6a610c0d99",
   "metadata": {},
   "outputs": [],
   "source": []
  }
 ],
 "metadata": {
  "kernelspec": {
   "display_name": "Python 3 (ipykernel)",
   "language": "python",
   "name": "python3"
  },
  "language_info": {
   "codemirror_mode": {
    "name": "ipython",
    "version": 3
   },
   "file_extension": ".py",
   "mimetype": "text/x-python",
   "name": "python",
   "nbconvert_exporter": "python",
   "pygments_lexer": "ipython3",
   "version": "3.13.1"
  }
 },
 "nbformat": 4,
 "nbformat_minor": 5
}
